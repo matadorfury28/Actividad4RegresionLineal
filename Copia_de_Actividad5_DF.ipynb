{
  "nbformat": 4,
  "nbformat_minor": 0,
  "metadata": {
    "colab": {
      "provenance": [],
      "include_colab_link": true
    },
    "kernelspec": {
      "name": "python3",
      "display_name": "Python 3"
    },
    "language_info": {
      "name": "python"
    }
  },
  "cells": [
    {
      "cell_type": "markdown",
      "metadata": {
        "id": "view-in-github",
        "colab_type": "text"
      },
      "source": [
        "<a href=\"https://colab.research.google.com/github/matadorfury28/Actividad4RegresionLineal/blob/main/Copia_de_Actividad5_DF.ipynb\" target=\"_parent\"><img src=\"https://colab.research.google.com/assets/colab-badge.svg\" alt=\"Open In Colab\"/></a>"
      ]
    },
    {
      "cell_type": "code",
      "execution_count": null,
      "metadata": {
        "id": "grJcVH1gbVid"
      },
      "outputs": [],
      "source": [
        "#Importamos librerias requeridas\n",
        "import pandas as pd\n",
        "import numpy as np\n",
        "import matplotlib.pyplot as plt"
      ]
    },
    {
      "cell_type": "code",
      "source": [
        "#carga archivo\n",
        "from google.colab import files\n",
        "files.upload()"
      ],
      "metadata": {
        "colab": {
          "base_uri": "https://localhost:8080/",
          "height": 73
        },
        "id": "9iIF0hTbb7cA",
        "outputId": "eb15949d-d03e-430f-d620-a12c49767ec3"
      },
      "execution_count": null,
      "outputs": [
        {
          "output_type": "display_data",
          "data": {
            "text/plain": [
              "<IPython.core.display.HTML object>"
            ],
            "text/html": [
              "\n",
              "     <input type=\"file\" id=\"files-9df5bf04-1822-4d4e-8613-ae1e93830a25\" name=\"files[]\" multiple disabled\n",
              "        style=\"border:none\" />\n",
              "     <output id=\"result-9df5bf04-1822-4d4e-8613-ae1e93830a25\">\n",
              "      Upload widget is only available when the cell has been executed in the\n",
              "      current browser session. Please rerun this cell to enable.\n",
              "      </output>\n",
              "      <script>// Copyright 2017 Google LLC\n",
              "//\n",
              "// Licensed under the Apache License, Version 2.0 (the \"License\");\n",
              "// you may not use this file except in compliance with the License.\n",
              "// You may obtain a copy of the License at\n",
              "//\n",
              "//      http://www.apache.org/licenses/LICENSE-2.0\n",
              "//\n",
              "// Unless required by applicable law or agreed to in writing, software\n",
              "// distributed under the License is distributed on an \"AS IS\" BASIS,\n",
              "// WITHOUT WARRANTIES OR CONDITIONS OF ANY KIND, either express or implied.\n",
              "// See the License for the specific language governing permissions and\n",
              "// limitations under the License.\n",
              "\n",
              "/**\n",
              " * @fileoverview Helpers for google.colab Python module.\n",
              " */\n",
              "(function(scope) {\n",
              "function span(text, styleAttributes = {}) {\n",
              "  const element = document.createElement('span');\n",
              "  element.textContent = text;\n",
              "  for (const key of Object.keys(styleAttributes)) {\n",
              "    element.style[key] = styleAttributes[key];\n",
              "  }\n",
              "  return element;\n",
              "}\n",
              "\n",
              "// Max number of bytes which will be uploaded at a time.\n",
              "const MAX_PAYLOAD_SIZE = 100 * 1024;\n",
              "\n",
              "function _uploadFiles(inputId, outputId) {\n",
              "  const steps = uploadFilesStep(inputId, outputId);\n",
              "  const outputElement = document.getElementById(outputId);\n",
              "  // Cache steps on the outputElement to make it available for the next call\n",
              "  // to uploadFilesContinue from Python.\n",
              "  outputElement.steps = steps;\n",
              "\n",
              "  return _uploadFilesContinue(outputId);\n",
              "}\n",
              "\n",
              "// This is roughly an async generator (not supported in the browser yet),\n",
              "// where there are multiple asynchronous steps and the Python side is going\n",
              "// to poll for completion of each step.\n",
              "// This uses a Promise to block the python side on completion of each step,\n",
              "// then passes the result of the previous step as the input to the next step.\n",
              "function _uploadFilesContinue(outputId) {\n",
              "  const outputElement = document.getElementById(outputId);\n",
              "  const steps = outputElement.steps;\n",
              "\n",
              "  const next = steps.next(outputElement.lastPromiseValue);\n",
              "  return Promise.resolve(next.value.promise).then((value) => {\n",
              "    // Cache the last promise value to make it available to the next\n",
              "    // step of the generator.\n",
              "    outputElement.lastPromiseValue = value;\n",
              "    return next.value.response;\n",
              "  });\n",
              "}\n",
              "\n",
              "/**\n",
              " * Generator function which is called between each async step of the upload\n",
              " * process.\n",
              " * @param {string} inputId Element ID of the input file picker element.\n",
              " * @param {string} outputId Element ID of the output display.\n",
              " * @return {!Iterable<!Object>} Iterable of next steps.\n",
              " */\n",
              "function* uploadFilesStep(inputId, outputId) {\n",
              "  const inputElement = document.getElementById(inputId);\n",
              "  inputElement.disabled = false;\n",
              "\n",
              "  const outputElement = document.getElementById(outputId);\n",
              "  outputElement.innerHTML = '';\n",
              "\n",
              "  const pickedPromise = new Promise((resolve) => {\n",
              "    inputElement.addEventListener('change', (e) => {\n",
              "      resolve(e.target.files);\n",
              "    });\n",
              "  });\n",
              "\n",
              "  const cancel = document.createElement('button');\n",
              "  inputElement.parentElement.appendChild(cancel);\n",
              "  cancel.textContent = 'Cancel upload';\n",
              "  const cancelPromise = new Promise((resolve) => {\n",
              "    cancel.onclick = () => {\n",
              "      resolve(null);\n",
              "    };\n",
              "  });\n",
              "\n",
              "  // Wait for the user to pick the files.\n",
              "  const files = yield {\n",
              "    promise: Promise.race([pickedPromise, cancelPromise]),\n",
              "    response: {\n",
              "      action: 'starting',\n",
              "    }\n",
              "  };\n",
              "\n",
              "  cancel.remove();\n",
              "\n",
              "  // Disable the input element since further picks are not allowed.\n",
              "  inputElement.disabled = true;\n",
              "\n",
              "  if (!files) {\n",
              "    return {\n",
              "      response: {\n",
              "        action: 'complete',\n",
              "      }\n",
              "    };\n",
              "  }\n",
              "\n",
              "  for (const file of files) {\n",
              "    const li = document.createElement('li');\n",
              "    li.append(span(file.name, {fontWeight: 'bold'}));\n",
              "    li.append(span(\n",
              "        `(${file.type || 'n/a'}) - ${file.size} bytes, ` +\n",
              "        `last modified: ${\n",
              "            file.lastModifiedDate ? file.lastModifiedDate.toLocaleDateString() :\n",
              "                                    'n/a'} - `));\n",
              "    const percent = span('0% done');\n",
              "    li.appendChild(percent);\n",
              "\n",
              "    outputElement.appendChild(li);\n",
              "\n",
              "    const fileDataPromise = new Promise((resolve) => {\n",
              "      const reader = new FileReader();\n",
              "      reader.onload = (e) => {\n",
              "        resolve(e.target.result);\n",
              "      };\n",
              "      reader.readAsArrayBuffer(file);\n",
              "    });\n",
              "    // Wait for the data to be ready.\n",
              "    let fileData = yield {\n",
              "      promise: fileDataPromise,\n",
              "      response: {\n",
              "        action: 'continue',\n",
              "      }\n",
              "    };\n",
              "\n",
              "    // Use a chunked sending to avoid message size limits. See b/62115660.\n",
              "    let position = 0;\n",
              "    do {\n",
              "      const length = Math.min(fileData.byteLength - position, MAX_PAYLOAD_SIZE);\n",
              "      const chunk = new Uint8Array(fileData, position, length);\n",
              "      position += length;\n",
              "\n",
              "      const base64 = btoa(String.fromCharCode.apply(null, chunk));\n",
              "      yield {\n",
              "        response: {\n",
              "          action: 'append',\n",
              "          file: file.name,\n",
              "          data: base64,\n",
              "        },\n",
              "      };\n",
              "\n",
              "      let percentDone = fileData.byteLength === 0 ?\n",
              "          100 :\n",
              "          Math.round((position / fileData.byteLength) * 100);\n",
              "      percent.textContent = `${percentDone}% done`;\n",
              "\n",
              "    } while (position < fileData.byteLength);\n",
              "  }\n",
              "\n",
              "  // All done.\n",
              "  yield {\n",
              "    response: {\n",
              "      action: 'complete',\n",
              "    }\n",
              "  };\n",
              "}\n",
              "\n",
              "scope.google = scope.google || {};\n",
              "scope.google.colab = scope.google.colab || {};\n",
              "scope.google.colab._files = {\n",
              "  _uploadFiles,\n",
              "  _uploadFilesContinue,\n",
              "};\n",
              "})(self);\n",
              "</script> "
            ]
          },
          "metadata": {}
        },
        {
          "output_type": "stream",
          "name": "stdout",
          "text": [
            "Saving DF_Mexico.csv to DF_Mexico (1).csv\n"
          ]
        }
      ]
    },
    {
      "cell_type": "code",
      "source": [
        "#Carga de un archivo .xlsx desde un libro con varias páginas\n",
        "data=pd.read_csv('DF_Mexico.csv')\n",
        "data.head()"
      ],
      "metadata": {
        "id": "9zZM_3Bwb_Df"
      },
      "execution_count": null,
      "outputs": []
    },
    {
      "cell_type": "code",
      "source": [
        "df = pd.DataFrame(data)\n",
        "columnas=['room_type', 'host_acceptance_rate', 'host_response_rate', 'price', 'review_scores_location', 'review_scores_cleanliness', 'availability_365', 'number_of_reviews', 'reviews_per_month', 'review_scores_communication']\n",
        "df2 = df[columnas]\n",
        "df2.head(4)"
      ],
      "metadata": {
        "id": "P9Q1DJnOe4mB"
      },
      "execution_count": null,
      "outputs": []
    },
    {
      "cell_type": "markdown",
      "source": [
        "**Empieza el filtro de nulos para el grupo privado**"
      ],
      "metadata": {
        "id": "TlZG5R6a3QeC"
      }
    },
    {
      "cell_type": "code",
      "source": [
        "filtro_privado = df2[df2['room_type'] == 'Private room']\n",
        "filtro_privado.info"
      ],
      "metadata": {
        "id": "xLgW7FtwlxAw"
      },
      "execution_count": null,
      "outputs": []
    },
    {
      "cell_type": "code",
      "source": [
        "#Se corroboran los valores nulos de las columnas con valores cuantitativos\n",
        "valores_nulos = filtro_privado.isnull().sum()\n",
        "valores_nulos"
      ],
      "metadata": {
        "id": "YGWw18F8K8wO"
      },
      "execution_count": null,
      "outputs": []
    },
    {
      "cell_type": "code",
      "source": [
        "#Primero se elimina el signo % para aplicar el remplazo de nulos\n",
        "#filtro_privado['host_acceptance_rate']=filtro_privado['host_acceptance_rate'].astype(str)\n",
        "filtro_privado['price']=filtro_privado['price'].str.replace('$', '')\n",
        "filtro_privado['price']=filtro_privado['price'].str.replace(',', '')\n",
        "filtro_privado['price']=filtro_privado['price'].str.replace('.', '')\n",
        "filtro_privado['host_acceptance_rate']=filtro_privado['host_acceptance_rate'].str.replace('%', '')\n",
        "filtro_privado['host_response_rate']=filtro_privado['host_response_rate'].str.replace('%', '')"
      ],
      "metadata": {
        "id": "Ip3252DzAj9F"
      },
      "execution_count": null,
      "outputs": []
    },
    {
      "cell_type": "code",
      "source": [
        "#Pasamos los valores de la columna a tipo numerico\n",
        "filtro_privado['price']=filtro_privado['price'].astype(float)\n",
        "filtro_privado['host_acceptance_rate']=filtro_privado['host_acceptance_rate'].astype(float)\n",
        "filtro_privado['host_response_rate']=filtro_privado['host_response_rate'].astype(float)\n",
        "filtro_privado['number_of_reviews']=filtro_privado['number_of_reviews'].astype(float)\n",
        "filtro_privado['availability_365']=filtro_privado['availability_365'].astype(float)\n",
        "filtro_privado['number_of_reviews']=filtro_privado['number_of_reviews'].astype(float)"
      ],
      "metadata": {
        "id": "cchNo-Y3Bxjo"
      },
      "execution_count": null,
      "outputs": []
    },
    {
      "cell_type": "code",
      "source": [
        "#Reemplazando nulos de columna host_acceptance_rate\n",
        "#filtro_private['host_acceptance_rate'] = filtro_private['host_acceptance_rate'].str.rstrip('%').astype(float)\n",
        "mean_acceptance_rate = filtro_privado['host_acceptance_rate'].mean()\n",
        "filtro_privado['host_acceptance_rate'].fillna(mean_acceptance_rate, inplace=True)\n",
        "print('La media de la columna acceptance_rate es: ', mean_acceptance_rate)"
      ],
      "metadata": {
        "id": "7uTHuNw0LFMC"
      },
      "execution_count": null,
      "outputs": []
    },
    {
      "cell_type": "code",
      "source": [
        "#Reemplazando nulos de columna host_acceptance_rate\n",
        "#filtro_private['host_response_rate'] = filtro_private['host_response_rate'].str.rstrip('%').astype(float)\n",
        "mean_response_rate = filtro_privado['host_response_rate'].mean()\n",
        "filtro_privado['host_response_rate'].fillna(mean_response_rate, inplace=True)\n",
        "print('La media de la columna response_rate es: ', mean_response_rate)"
      ],
      "metadata": {
        "id": "C-fLPG4KLMbn"
      },
      "execution_count": null,
      "outputs": []
    },
    {
      "cell_type": "code",
      "source": [
        "valores_nulos = filtro_privado.isnull().sum()\n",
        "valores_nulos"
      ],
      "metadata": {
        "id": "BO9WLoVLO7Ct"
      },
      "execution_count": null,
      "outputs": []
    },
    {
      "cell_type": "code",
      "source": [
        "#Reemplazando nulos de las columnas review_scores_location, review_scores_cleanliness,\n",
        "#reviews_per_month y review_scores_communication\n",
        "mean_review_scores_location = filtro_privado['review_scores_location'].mean()\n",
        "filtro_privado['review_scores_location'].fillna(mean_review_scores_location, inplace=True)\n",
        "\n",
        "mean_review_scores_cleanliness = filtro_privado['review_scores_cleanliness'].mean()\n",
        "filtro_privado['review_scores_cleanliness'].fillna(mean_review_scores_cleanliness, inplace=True)\n",
        "\n",
        "mean_reviews_per_month = filtro_privado['reviews_per_month'].mean()\n",
        "filtro_privado['reviews_per_month'].fillna(mean_reviews_per_month, inplace=True)\n",
        "\n",
        "mean_review_scores_communication = filtro_privado['review_scores_communication'].mean()\n",
        "filtro_privado['review_scores_communication'].fillna(mean_review_scores_communication, inplace=True)\n",
        "\n",
        "print('La media de la columna review_scores_location es: ', mean_review_scores_location)\n",
        "print('La media de la columna review_scores_cleanliness es: ', mean_review_scores_cleanliness)\n",
        "print('La media de la columna reviews_per_month es: ', mean_reviews_per_month)\n",
        "print('La media de la columna review_scores_communication es: ', mean_review_scores_communication)"
      ],
      "metadata": {
        "id": "TH37tVgBO4zL"
      },
      "execution_count": null,
      "outputs": []
    },
    {
      "cell_type": "code",
      "source": [
        "#Se corroboran los valores nulos de las columnas con valores cuantitativos\n",
        "valores_nulos = filtro_privado.isnull().sum()\n",
        "valores_nulos"
      ],
      "metadata": {
        "id": "oep5fs5mQHdD"
      },
      "execution_count": null,
      "outputs": []
    },
    {
      "cell_type": "code",
      "source": [
        "filtro_privado.info()"
      ],
      "metadata": {
        "id": "RiYZ9WOIDuAv"
      },
      "execution_count": null,
      "outputs": []
    },
    {
      "cell_type": "markdown",
      "source": [
        "**Empieza el filtro de nulos para el grupo compartido**"
      ],
      "metadata": {
        "id": "Qb8pC-lVNHJz"
      }
    },
    {
      "cell_type": "code",
      "source": [
        "filtro_compartido = df2[df2['room_type'] == 'Shared room']\n",
        "filtro_compartido"
      ],
      "metadata": {
        "id": "wq9M99aURtbh"
      },
      "execution_count": null,
      "outputs": []
    },
    {
      "cell_type": "code",
      "source": [
        "#Se corroboran los valores nulos de las columnas con valores cuantitativos\n",
        "valores_nulos = filtro_compartido.isnull().sum()\n",
        "valores_nulos"
      ],
      "metadata": {
        "id": "QVFJt3fIR0L1"
      },
      "execution_count": null,
      "outputs": []
    },
    {
      "cell_type": "code",
      "source": [
        "#Primero se elimina el signo % para aplicar el remplazo de nulos\n",
        "#filtro_privado['host_acceptance_rate']=filtro_privado['host_acceptance_rate'].astype(str)\n",
        "filtro_compartido['price']=filtro_compartido['price'].str.replace('$', '')\n",
        "filtro_compartido['price']=filtro_compartido['price'].str.replace(',', '')\n",
        "filtro_compartido['price']=filtro_compartido['price'].str.replace('.', '')\n",
        "filtro_compartido['price']"
      ],
      "metadata": {
        "id": "JJi6ATJcJcy0"
      },
      "execution_count": null,
      "outputs": []
    },
    {
      "cell_type": "code",
      "source": [
        "#Pasamos los valores de la columna a tipo numerico\n",
        "filtro_compartido['price']=filtro_compartido['price'].astype(float)\n",
        "filtro_compartido['number_of_reviews']=filtro_compartido['number_of_reviews'].astype(float)\n",
        "filtro_compartido['availability_365']=filtro_compartido['availability_365'].astype(float)\n",
        "filtro_compartido['number_of_reviews']=filtro_compartido['number_of_reviews'].astype(float)"
      ],
      "metadata": {
        "id": "7JZKtLoHJhOR"
      },
      "execution_count": null,
      "outputs": []
    },
    {
      "cell_type": "code",
      "source": [
        "#Corroboramos el tipo de información de las columnas\n",
        "filtro_compartido.info()"
      ],
      "metadata": {
        "id": "ppIOwtObJpnf"
      },
      "execution_count": null,
      "outputs": []
    },
    {
      "cell_type": "code",
      "source": [
        "#Reemplazando nulos de columna host_acceptance_rate\n",
        "filtro_compartido['host_acceptance_rate'] = filtro_compartido['host_acceptance_rate'].str.rstrip('%').astype(float)\n",
        "mean_acceptance_rate = filtro_compartido['host_acceptance_rate'].mean()\n",
        "filtro_compartido['host_acceptance_rate'].fillna(mean_acceptance_rate, inplace=True)\n",
        "print('La media de la columna acceptance_rate es: ', mean_acceptance_rate)\n",
        "\n",
        "#Reemplazando nulos de columna host_acceptance_rate\n",
        "filtro_compartido['host_response_rate'] = filtro_compartido['host_response_rate'].str.rstrip('%').astype(float)\n",
        "mean_response_rate = filtro_compartido['host_response_rate'].mean()\n",
        "filtro_compartido['host_response_rate'].fillna(mean_response_rate, inplace=True)\n",
        "print('La media de la columna response_rate es: ', mean_response_rate)\n",
        "\n",
        "#Reemplazando nulos de las columnas review_scores_location, review_scores_cleanliness,\n",
        "#reviews_per_month y review_scores_communication\n",
        "mean_review_scores_location = filtro_compartido['review_scores_location'].mean()\n",
        "filtro_compartido['review_scores_location'].fillna(mean_review_scores_location, inplace=True)\n",
        "\n",
        "mean_review_scores_cleanliness = filtro_compartido['review_scores_cleanliness'].mean()\n",
        "filtro_compartido['review_scores_cleanliness'].fillna(mean_review_scores_cleanliness, inplace=True)\n",
        "\n",
        "mean_reviews_per_month = filtro_compartido['reviews_per_month'].mean()\n",
        "filtro_compartido['reviews_per_month'].fillna(mean_reviews_per_month, inplace=True)\n",
        "\n",
        "mean_review_scores_communication = filtro_compartido['review_scores_communication'].mean()\n",
        "filtro_compartido['review_scores_communication'].fillna(mean_review_scores_communication, inplace=True)\n",
        "\n",
        "print('La media de la columna review_scores_location es: ', mean_review_scores_location)\n",
        "print('La media de la columna review_scores_cleanliness es: ', mean_review_scores_cleanliness)\n",
        "print('La media de la columna reviews_per_month es: ', mean_reviews_per_month)\n",
        "print('La media de la columna review_scores_communication es: ', mean_review_scores_communication)\n",
        "\n",
        "filtro_compartido"
      ],
      "metadata": {
        "id": "UMBkTjYFR7R2"
      },
      "execution_count": null,
      "outputs": []
    },
    {
      "cell_type": "code",
      "source": [
        "#Se corroboran los valores nulos de las columnas con valores cuantitativos\n",
        "valores_nulos = filtro_compartido.isnull().sum()\n",
        "valores_nulos"
      ],
      "metadata": {
        "id": "DjmDI62lTCYV"
      },
      "execution_count": null,
      "outputs": []
    },
    {
      "cell_type": "markdown",
      "source": [
        "**Empieza eliminación de outliers para el grupo privado**"
      ],
      "metadata": {
        "id": "dwlesBzJNV2p"
      }
    },
    {
      "cell_type": "code",
      "source": [
        "#Metodo aplicando desviación estandar. Encuentro los valores extremos\n",
        "y=filtro_privado\n",
        "Limite_Superior_iqr= y.mean() + 3*y.std()\n",
        "Limite_Inferior_iqr= y.mean() - 3*y.std()\n",
        "print('Limite superior permitido', Limite_Superior_iqr)\n",
        "print('Limite inferior permitido', Limite_Inferior_iqr)"
      ],
      "metadata": {
        "id": "V-sA8KMvgWcT"
      },
      "execution_count": null,
      "outputs": []
    },
    {
      "cell_type": "code",
      "source": [
        "filtro_privado.info()"
      ],
      "metadata": {
        "id": "qiYZFWJOLhzY"
      },
      "execution_count": null,
      "outputs": []
    },
    {
      "cell_type": "code",
      "source": [
        "#Encontramos outliers del DataFrame\n",
        "outliers=filtro_privado[(y>Limite_Superior_iqr)|(y<Limite_Inferior_iqr)]\n",
        "outliers"
      ],
      "metadata": {
        "id": "z2uV8C3fG58k"
      },
      "execution_count": null,
      "outputs": []
    },
    {
      "cell_type": "markdown",
      "source": [
        "**Aqui se convierten los outliers en nulos**\n"
      ],
      "metadata": {
        "id": "5ikjABmtG_kC"
      }
    },
    {
      "cell_type": "code",
      "source": [
        "#Obtenemos datos y los outliers se convierten en nulos en el dataframe\n",
        "data2=filtro_privado[(y<=Limite_Superior_iqr)&(y>=Limite_Inferior_iqr)]\n",
        "data2"
      ],
      "metadata": {
        "id": "A9n4fU2AG54q"
      },
      "execution_count": null,
      "outputs": []
    },
    {
      "cell_type": "code",
      "source": [
        "#Corroboramos valores nulos\n",
        "valores_nulos=data2.isnull().sum()\n",
        "valores_nulos"
      ],
      "metadata": {
        "id": "pQUsiUokHCpy"
      },
      "execution_count": null,
      "outputs": []
    },
    {
      "cell_type": "code",
      "source": [
        "#Reemplazamos valores atipicos (nulos) del dataframe con 'mean'\n",
        "#Realizamos una copia del dataframe\n",
        "data_clean=data2.copy()\n",
        "data_clean=data_clean.fillna(round(data2.mean(), 1))\n",
        "data_clean"
      ],
      "metadata": {
        "id": "-hA3xYLyG5zz"
      },
      "execution_count": null,
      "outputs": []
    },
    {
      "cell_type": "code",
      "source": [
        "#Corroboramos valores nulos\n",
        "valores_nulos=data_clean.isnull().sum()\n",
        "valores_nulos"
      ],
      "metadata": {
        "id": "3ikvlq37HGuR"
      },
      "execution_count": null,
      "outputs": []
    },
    {
      "cell_type": "code",
      "source": [
        "#Unimos la columna 'DF_2020' con el dataframe\n",
        "Datos_limpios=pd.concat([data_clean, filtro_privado], axis=1)\n",
        "Datos_limpios"
      ],
      "metadata": {
        "id": "88-QneffHGrI"
      },
      "execution_count": null,
      "outputs": []
    },
    {
      "cell_type": "code",
      "source": [
        "#Realizamos diagrama de caja o bigote de cada columna dek dataframe\n",
        "fig = plt.figure(figsize = (15, 8))\n",
        "filtro_privado.plot(kind='box', vert=False)\n",
        "plt.title('Valores atipicos del dataframe')\n",
        "plt.show() #Dibujamos el histograma"
      ],
      "metadata": {
        "id": "5I2AN4IoFxVL"
      },
      "execution_count": null,
      "outputs": []
    },
    {
      "cell_type": "code",
      "source": [
        "filtro_privado.info()"
      ],
      "metadata": {
        "id": "JgNKRbEnGkV3"
      },
      "execution_count": null,
      "outputs": []
    },
    {
      "cell_type": "markdown",
      "source": [
        "**Empieza eliminación de outliers para el grupo compartido**"
      ],
      "metadata": {
        "id": "jE8la03f1772"
      }
    },
    {
      "cell_type": "code",
      "source": [
        "#Realizamos diagrama de caja o bigote de cada columna dek dataframe\n",
        "fig = plt.figure(figsize = (15, 8))\n",
        "filtro_privado.plot(kind='box', vert=False)\n",
        "plt.title('Valores atipicos del dataframe')\n",
        "plt.show() #Dibujamos el histograma"
      ],
      "metadata": {
        "id": "DKBraE9W1967"
      },
      "execution_count": null,
      "outputs": []
    },
    {
      "cell_type": "code",
      "source": [
        "#Metodo aplicando desviación estandar. Encuentro los valores extremos\n",
        "y=filtro_privado\n",
        "Limite_Superior_iqr= y.mean() + 3*y.std()\n",
        "Limite_Inferior_iqr= y.mean() - 3*y.std()\n",
        "print('Limite superior permitido', Limite_Superior_iqr)\n",
        "print('Limite inferior permitido', Limite_Inferior_iqr)"
      ],
      "metadata": {
        "id": "_J2Energ2ZSR"
      },
      "execution_count": null,
      "outputs": []
    },
    {
      "cell_type": "code",
      "source": [
        "#Encontramos outliers del DataFrame\n",
        "outliers=filtro_privado[(y>Limite_Superior_iqr)|(y<Limite_Inferior_iqr)]\n",
        "outliers"
      ],
      "metadata": {
        "id": "IHlz7VFm2cSK"
      },
      "execution_count": null,
      "outputs": []
    },
    {
      "cell_type": "markdown",
      "source": [
        "**Aqui se convierten los outliers en nulos**\n"
      ],
      "metadata": {
        "id": "fiv6RZ8f2e5H"
      }
    },
    {
      "cell_type": "code",
      "source": [
        "#Obtenemos datos y los outliers se convierten en nulos en el dataframe\n",
        "data3=filtro_privado[(y<=Limite_Superior_iqr)&(y>=Limite_Inferior_iqr)]\n",
        "data3"
      ],
      "metadata": {
        "id": "mjXT-x8p2rlo"
      },
      "execution_count": null,
      "outputs": []
    },
    {
      "cell_type": "code",
      "source": [
        "#Corroboramos valores nulos\n",
        "valores_nulos=data2.isnull().sum()\n",
        "valores_nulos"
      ],
      "metadata": {
        "id": "vrru06_72zMU"
      },
      "execution_count": null,
      "outputs": []
    },
    {
      "cell_type": "code",
      "source": [
        "#Reemplazamos valores atipicos (nulos) del dataframe con 'mean'\n",
        "#Realizamos una copia del dataframe\n",
        "data_clean=data2.copy()\n",
        "data_clean=data_clean.fillna(round(data2.mean(), 1))\n",
        "data_clean"
      ],
      "metadata": {
        "id": "89ZBu_SK20ql"
      },
      "execution_count": null,
      "outputs": []
    },
    {
      "cell_type": "code",
      "source": [
        "#Corroboramos valores nulos\n",
        "valores_nulos=data_clean.isnull().sum()\n",
        "valores_nulos"
      ],
      "metadata": {
        "id": "jEMQmZ3Q22UU"
      },
      "execution_count": null,
      "outputs": []
    },
    {
      "cell_type": "code",
      "source": [
        "#Unimos la columna 'DF_2020' con el dataframe\n",
        "Datos_limpios=pd.concat([data_clean, filtro_privado], axis=1)\n",
        "Datos_limpios"
      ],
      "metadata": {
        "id": "GfJP-7lX23p_"
      },
      "execution_count": null,
      "outputs": []
    },
    {
      "cell_type": "code",
      "source": [
        "#Realizamos diagrama de caja o bigote de cada columna dek dataframe\n",
        "fig = plt.figure(figsize = (15, 8))\n",
        "filtro_privado.plot(kind='box', vert=False)\n",
        "plt.title('Valores atipicos del dataframe')\n",
        "plt.show() #Dibujamos el histograma"
      ],
      "metadata": {
        "id": "I_eFpukj25P1"
      },
      "execution_count": null,
      "outputs": []
    },
    {
      "cell_type": "markdown",
      "source": [
        "**Se crea la regresión lineal de las variables**"
      ],
      "metadata": {
        "id": "_4wKyLCZGveK"
      }
    },
    {
      "cell_type": "code",
      "source": [
        "import seaborn as sns\n",
        "from turtle import color\n",
        "\n",
        "sns.scatterplot(x = 'review_scores_communication', y = 'host_acceptance_rate', color = 'red', data = filtro_privado)"
      ],
      "metadata": {
        "id": "8P_5Va1BG8Cd",
        "colab": {
          "base_uri": "https://localhost:8080/",
          "height": 467
        },
        "outputId": "9e178b2a-95b4-4633-9436-6aa1e48701fe"
      },
      "execution_count": null,
      "outputs": [
        {
          "output_type": "execute_result",
          "data": {
            "text/plain": [
              "<Axes: xlabel='review_scores_communication', ylabel='host_acceptance_rate'>"
            ]
          },
          "metadata": {},
          "execution_count": 53
        },
        {
          "output_type": "display_data",
          "data": {
            "text/plain": [
              "<Figure size 640x480 with 1 Axes>"
            ],
            "image/png": "[encoded data removed]"
          },
          "metadata": {}
        }
      ]
    },
    {
      "cell_type": "code",
      "source": [
        "#Declaramos las variables dependientes e independientes\n",
        "Vars_Indep = filtro_privado[['review_scores_communication']]\n",
        "Var_Dep = filtro_privado['host_acceptance_rate']"
      ],
      "metadata": {
        "id": "dMvqnfVUL0B7"
      },
      "execution_count": null,
      "outputs": []
    },
    {
      "cell_type": "code",
      "source": [
        "#Se define model como la función de regresión lineal\n",
        "from sklearn.linear_model import LinearRegression\n",
        "model = LinearRegression()"
      ],
      "metadata": {
        "id": "6gJcyysTL_Yi"
      },
      "execution_count": null,
      "outputs": []
    },
    {
      "cell_type": "code",
      "source": [
        "#Verificamos la función relacionada al modelo\n",
        "type(model)"
      ],
      "metadata": {
        "id": "tGD63x8QMDQd"
      },
      "execution_count": null,
      "outputs": []
    },
    {
      "cell_type": "code",
      "source": [
        "#Ajustamos el modelo con los variables antes declaradas\n",
        "model.fit(X = Vars_Indep, y = Var_Dep)"
      ],
      "metadata": {
        "id": "3oUcwI5NMFP1"
      },
      "execution_count": null,
      "outputs": []
    },
    {
      "cell_type": "code",
      "source": [
        "#Verificamos los coeficientes obtenidos para el modelo ajustado\n",
        "model.__dict__"
      ],
      "metadata": {
        "id": "XJ5UK0UjFtSz"
      },
      "execution_count": null,
      "outputs": []
    },
    {
      "cell_type": "code",
      "source": [
        "filtro_privado.info()"
      ],
      "metadata": {
        "id": "c5oM0RaDKoQ6",
        "colab": {
          "base_uri": "https://localhost:8080/"
        },
        "outputId": "1ef12ead-8b30-43a9-9f24-cbe8f0299f8e"
      },
      "execution_count": null,
      "outputs": [
        {
          "output_type": "stream",
          "name": "stdout",
          "text": [
            "<class 'pandas.core.frame.DataFrame'>\n",
            "Int64Index: 8202 entries, 7 to 24221\n",
            "Data columns (total 11 columns):\n",
            " #   Column                       Non-Null Count  Dtype  \n",
            "---  ------                       --------------  -----  \n",
            " 0   RS_communication             8202 non-null   float64\n",
            " 1   room_type                    8202 non-null   object \n",
            " 2   host_acceptance_rate         8202 non-null   float64\n",
            " 3   host_response_rate           8202 non-null   float64\n",
            " 4   price                        8202 non-null   float64\n",
            " 5   review_scores_location       8202 non-null   float64\n",
            " 6   review_scores_cleanliness    8202 non-null   float64\n",
            " 7   availability_365             8202 non-null   float64\n",
            " 8   number_of_reviews            8202 non-null   float64\n",
            " 9   reviews_per_month            8202 non-null   float64\n",
            " 10  review_scores_communication  8202 non-null   float64\n",
            "dtypes: float64(10), object(1)\n",
            "memory usage: 768.9+ KB\n"
          ]
        }
      ]
    },
    {
      "cell_type": "code",
      "source": [
        "#Predecimos los valores\n",
        "y_pred=model.predict(X=filtro_privado[['review_scores_communication']])\n",
        "y_pred"
      ],
      "metadata": {
        "id": "Nd0W4RpxMhFj",
        "colab": {
          "base_uri": "https://localhost:8080/"
        },
        "outputId": "7c91dd45-dd4f-4ea2-b5c6-3dc5c5a7071f"
      },
      "execution_count": null,
      "outputs": [
        {
          "output_type": "execute_result",
          "data": {
            "text/plain": [
              "array([87.33043519, 87.02140938, 87.19799556, ..., 87.17691567,\n",
              "       87.17691567, 87.17691567])"
            ]
          },
          "metadata": {},
          "execution_count": 57
        }
      ]
    },
    {
      "cell_type": "code",
      "source": [
        "#Visualizamos la grafica comparativa entre el total real y el total predecido\n",
        "\n",
        "sns.scatterplot(x='review_scores_communication', y='host_acceptance_rate', color='blue', data=filtro_privado)\n",
        "sns.scatterplot(x='review_scores_communication', y='RS_communication', color='red', data=filtro_privado)\n",
        "sns.lineplot(x='review_scores_communication', y='RS_communication', color='red', data=filtro_privado)"
      ],
      "metadata": {
        "colab": {
          "base_uri": "https://localhost:8080/",
          "height": 467
        },
        "id": "2ky4B8SDREoK",
        "outputId": "07708df8-fc51-4432-a912-1ffa3be4a434"
      },
      "execution_count": null,
      "outputs": [
        {
          "output_type": "execute_result",
          "data": {
            "text/plain": [
              "<Axes: xlabel='review_scores_communication', ylabel='host_acceptance_rate'>"
            ]
          },
          "metadata": {},
          "execution_count": 59
        },
        {
          "output_type": "display_data",
          "data": {
            "text/plain": [
              "<Figure size 640x480 with 1 Axes>"
            ],
            "image/png": "[encoded data removed]"
          },
          "metadata": {}
        }
      ]
    },
    {
      "cell_type": "code",
      "source": [
        "#Corroboramos cual es el coeficiente de Determinación de nuestro modelo\n",
        "coef_Deter=model.score(X=Vars_Indep, y=Var_Dep)\n",
        "coef_Deter"
      ],
      "metadata": {
        "colab": {
          "base_uri": "https://localhost:8080/"
        },
        "id": "79klke3sRwG_",
        "outputId": "25c1a4ef-2466-42d7-e90f-5de2b5f41d6e"
      },
      "execution_count": null,
      "outputs": [
        {
          "output_type": "execute_result",
          "data": {
            "text/plain": [
              "0.00030396174884539384"
            ]
          },
          "metadata": {},
          "execution_count": 60
        }
      ]
    }
  ]
}